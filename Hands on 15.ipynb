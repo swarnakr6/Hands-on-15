{
 "cells": [
  {
   "cell_type": "code",
   "execution_count": null,
   "id": "0f65f51b",
   "metadata": {},
   "outputs": [],
   "source": [
    "Implement Dijkstra's algorithm"
   ]
  },
  {
   "cell_type": "code",
   "execution_count": 1,
   "id": "74948a52",
   "metadata": {},
   "outputs": [
    {
     "name": "stdout",
     "output_type": "stream",
     "text": [
      "Shortest distances from node A:\n",
      "A: 0\n",
      "B: 5\n",
      "C: 3\n",
      "D: 6\n",
      "E: 8\n",
      "F: 14\n"
     ]
    }
   ],
   "source": [
    "import heapq\n",
    "\n",
    "def dijkstra(graph, start):\n",
    "    # Initialize distances dictionary with infinity for all nodes\n",
    "    distances = {node: float('inf') for node in graph}\n",
    "    # Set distance for the start node to 0\n",
    "    distances[start] = 0\n",
    "    \n",
    "    # Priority queue to keep track of nodes to visit\n",
    "    queue = [(0, start)]\n",
    "    \n",
    "    while queue:\n",
    "        # Pop the node with the smallest distance from the queue\n",
    "        current_distance, current_node = heapq.heappop(queue)\n",
    "        \n",
    "        # If we have already found a shorter path to this node, skip\n",
    "        if current_distance > distances[current_node]:\n",
    "            continue\n",
    "        \n",
    "        # Check each neighbor of the current node\n",
    "        for neighbor, weight in graph[current_node].items():\n",
    "            distance = current_distance + weight\n",
    "            # If this path is shorter than the currently known shortest path to the neighbor, update the distance\n",
    "            if distance < distances[neighbor]:\n",
    "                distances[neighbor] = distance\n",
    "                heapq.heappush(queue, (distance, neighbor))\n",
    "    \n",
    "    return distances\n",
    "\n",
    "# Example graph representation (dictionary of dictionaries)\n",
    "# Each node maps to a dictionary where the keys are its neighbors and the values are the edge weights\n",
    "graph = {\n",
    "    'A': {'B': 5, 'C': 3},\n",
    "    'B': {'A': 5, 'C': 2, 'D': 1},\n",
    "    'C': {'A': 3, 'B': 2, 'D': 4, 'E': 6},\n",
    "    'D': {'B': 1, 'C': 4, 'E': 2, 'F': 8},\n",
    "    'E': {'C': 6, 'D': 2, 'F': 7},\n",
    "    'F': {'D': 8, 'E': 7}\n",
    "}\n",
    "\n",
    "# Starting node for Dijkstra's algorithm\n",
    "start_node = 'A'\n",
    "\n",
    "# Run Dijkstra's algorithm\n",
    "shortest_distances = dijkstra(graph, start_node)\n",
    "print(\"Shortest distances from node\", start_node + \":\")\n",
    "for node, distance in shortest_distances.items():\n",
    "    print(node + \":\", distance)\n"
   ]
  },
  {
   "cell_type": "code",
   "execution_count": null,
   "id": "683a7791",
   "metadata": {},
   "outputs": [],
   "source": [
    "Implement Bellman-Ford algorithm"
   ]
  },
  {
   "cell_type": "code",
   "execution_count": 5,
   "id": "bd11dc8c",
   "metadata": {},
   "outputs": [
    {
     "name": "stdout",
     "output_type": "stream",
     "text": [
      "Shortest distances from node A:\n",
      "A: 0\n",
      "B: -1\n",
      "C: 2\n",
      "D: -2\n",
      "E: 1\n"
     ]
    }
   ],
   "source": [
    "def bellman_ford(graph, start):\n",
    "    # Step 1: Initialize distances and predecessors\n",
    "    distances = {node: float('inf') for node in graph}\n",
    "    predecessors = {node: None for node in graph}\n",
    "    distances[start] = 0\n",
    "    \n",
    "    # Step 2: Relax edges repeatedly\n",
    "    for _ in range(len(graph) - 1):\n",
    "        for node in graph:\n",
    "            for neighbor, weight in graph[node].items():\n",
    "                if distances[node] + weight < distances[neighbor]:\n",
    "                    distances[neighbor] = distances[node] + weight\n",
    "                    predecessors[neighbor] = node\n",
    "    \n",
    "    # Step 3: Check for negative cycles\n",
    "    for node in graph:\n",
    "        for neighbor, weight in graph[node].items():\n",
    "            if distances[node] + weight < distances[neighbor]:\n",
    "                raise ValueError(\"Graph contains a negative-weight cycle\")\n",
    "    \n",
    "    return distances, predecessors\n",
    "\n",
    "# Example graph representation (dictionary of dictionaries)\n",
    "graph = {\n",
    "    'A': {'B': -1, 'C': 4},\n",
    "    'B': {'C': 3, 'D': 2, 'E': 2},\n",
    "    'C': {},\n",
    "    'D': {'B': 1, 'C': 5},\n",
    "    'E': {'D': -3}\n",
    "}\n",
    "\n",
    "# Starting node for Bellman-Ford algorithm\n",
    "start_node = 'A'\n",
    "\n",
    "# Run Bellman-Ford algorithm\n",
    "shortest_distances, predecessors = bellman_ford(graph, start_node)\n",
    "print(\"Shortest distances from node\", start_node + \":\")\n",
    "for node, distance in shortest_distances.items():\n",
    "    print(node + \":\", distance)\n"
   ]
  },
  {
   "cell_type": "code",
   "execution_count": null,
   "id": "ee833609",
   "metadata": {},
   "outputs": [],
   "source": [
    "Implement Floyd-Warshall algorithm"
   ]
  },
  {
   "cell_type": "code",
   "execution_count": 6,
   "id": "c87b3dde",
   "metadata": {},
   "outputs": [
    {
     "name": "stdout",
     "output_type": "stream",
     "text": [
      "Shortest distances between each pair of nodes:\n",
      "A -> A: 0\n",
      "A -> B: 5\n",
      "A -> C: 8\n",
      "A -> D: 9\n",
      "B -> A: inf\n",
      "B -> B: 0\n",
      "B -> C: 3\n",
      "B -> D: 4\n",
      "C -> A: inf\n",
      "C -> B: inf\n",
      "C -> C: 0\n",
      "C -> D: 1\n",
      "D -> A: inf\n",
      "D -> B: inf\n",
      "D -> C: inf\n",
      "D -> D: 0\n"
     ]
    }
   ],
   "source": [
    "def floyd_warshall(graph):\n",
    "    # Initialize the distance matrix with the given graph\n",
    "    dist = {i: {j: graph[i][j] if i != j else 0 for j in graph} for i in graph}\n",
    "    \n",
    "    # Iterate through intermediate nodes\n",
    "    for k in graph:\n",
    "        for i in graph:\n",
    "            for j in graph:\n",
    "                # If there is a shorter path through k\n",
    "                if dist[i][k] + dist[k][j] < dist[i][j]:\n",
    "                    # Update the shortest distance and predecessor\n",
    "                    dist[i][j] = dist[i][k] + dist[k][j]\n",
    "    \n",
    "    return dist\n",
    "\n",
    "# Example graph representation (dictionary of dictionaries)\n",
    "graph = {\n",
    "    'A': {'A': 0, 'B': 5, 'C': float('inf'), 'D': 10},\n",
    "    'B': {'A': float('inf'), 'B': 0, 'C': 3, 'D': float('inf')},\n",
    "    'C': {'A': float('inf'), 'B': float('inf'), 'C': 0, 'D': 1},\n",
    "    'D': {'A': float('inf'), 'B': float('inf'), 'C': float('inf'), 'D': 0}\n",
    "}\n",
    "\n",
    "# Run Floyd-Warshall algorithm\n",
    "shortest_distances = floyd_warshall(graph)\n",
    "print(\"Shortest distances between each pair of nodes:\")\n",
    "for node1 in shortest_distances:\n",
    "    for node2 in shortest_distances[node1]:\n",
    "        print(f\"{node1} -> {node2}: {shortest_distances[node1][node2]}\")\n"
   ]
  },
  {
   "cell_type": "code",
   "execution_count": null,
   "id": "eaa017dd",
   "metadata": {},
   "outputs": [],
   "source": []
  }
 ],
 "metadata": {
  "kernelspec": {
   "display_name": "Python 3 (ipykernel)",
   "language": "python",
   "name": "python3"
  },
  "language_info": {
   "codemirror_mode": {
    "name": "ipython",
    "version": 3
   },
   "file_extension": ".py",
   "mimetype": "text/x-python",
   "name": "python",
   "nbconvert_exporter": "python",
   "pygments_lexer": "ipython3",
   "version": "3.10.9"
  }
 },
 "nbformat": 4,
 "nbformat_minor": 5
}
